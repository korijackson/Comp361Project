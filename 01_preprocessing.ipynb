{
 "cells": [
  {
   "cell_type": "markdown",
   "metadata": {},
   "source": [
    "# Data Engineer - Cleaning  & Encoding\n",
    "**This handles the preprocessing for the UNSW-NB15 dataset.**\n",
    "\n",
    "**Task completed:**\n",
    "- Merges all dataset parts into one DataFrame\n",
    "- Drops duplicates and handles missing values\n",
    "- Encodes categorical feautures using One-Hot Encoding\n",
    "- Saves the cleaned dataset as \"unsw_cleaned.csv\"\n",
    "- Visualizes the label distribution"
   ]
  },
  {
   "cell_type": "markdown",
   "metadata": {},
   "source": [
    "# Step 1: Import required Libraries "
   ]
  },
  {
   "cell_type": "code",
   "execution_count": 1,
   "metadata": {},
   "outputs": [],
   "source": [
    "import pandas as pd\n",
    "import numpy as np\n",
    "import matplotlib.pyplot as plt\n",
    "from sklearn.preprocessing import LabelEncoder, OneHotEncoder\n"
   ]
  },
  {
   "cell_type": "markdown",
   "metadata": {},
   "source": [
    "# Step 2: Load and Merge Dataset Parts"
   ]
  },
  {
   "cell_type": "code",
   "execution_count": 38,
   "metadata": {},
   "outputs": [
    {
     "name": "stderr",
     "output_type": "stream",
     "text": [
      "/var/folders/g1/zpxsb4cx1k98nwpj_v6_x7x00000gn/T/ipykernel_31381/139481131.py:5: DtypeWarning: Columns (1,3,47) have mixed types. Specify dtype option on import or set low_memory=False.\n",
      "  dfs = [pd.read_csv(f) for f in files]\n",
      "/var/folders/g1/zpxsb4cx1k98nwpj_v6_x7x00000gn/T/ipykernel_31381/139481131.py:5: DtypeWarning: Columns (3,39,47) have mixed types. Specify dtype option on import or set low_memory=False.\n",
      "  dfs = [pd.read_csv(f) for f in files]\n"
     ]
    },
    {
     "name": "stdout",
     "output_type": "stream",
     "text": [
      "Merged dataset shape: (2540043, 139)\n"
     ]
    }
   ],
   "source": [
    "# Load all csv files \n",
    "files = ['UNSW-NB15_1.csv', 'UNSW-NB15_2.csv', 'UNSW-NB15_3.csv', 'UNSW-NB15_4.csv']\n",
    "\n",
    "# Read and concatenate\n",
    "dfs = [pd.read_csv(f) for f in files]\n",
    "df = pd.concat(dfs, ignore_index=True)\n",
    "print(\"Merged dataset shape:\", df.shape)\n",
    "\n"
   ]
  },
  {
   "cell_type": "markdown",
   "metadata": {},
   "source": [
    "# Step 3: Drop duplicates and Handle Missing Values "
   ]
  },
  {
   "cell_type": "code",
   "execution_count": 39,
   "metadata": {},
   "outputs": [
    {
     "name": "stdout",
     "output_type": "stream",
     "text": [
      "After cleaning: (2059418, 139)\n"
     ]
    }
   ],
   "source": [
    "# Drop duplicate rows\n",
    "df = df.drop_duplicates()\n",
    "\n",
    "# Replace missing values\n",
    "df = df.fillna(0)  \n",
    "\n",
    "print(\"After cleaning:\", df.shape)\n"
   ]
  },
  {
   "cell_type": "markdown",
   "metadata": {},
   "source": [
    "# Step 4: Encode Categorical Columns"
   ]
  },
  {
   "cell_type": "code",
   "execution_count": 49,
   "metadata": {},
   "outputs": [
    {
     "name": "stdout",
     "output_type": "stream",
     "text": [
      "After label encoding categorical columns: (2059418, 139)\n"
     ]
    }
   ],
   "source": [
    "# Identify categorical columns\n",
    "cat_cols = df.select_dtypes(include=['object']).columns\n",
    "\n",
    "# Apply LabelEncoder to each\n",
    "encoder = LabelEncoder()\n",
    "for col in cat_cols:\n",
    "    df[col] = encoder.fit_transform(df[col].astype(str))\n",
    "\n",
    "print(\"After label encoding categorical columns:\", df.shape)\n"
   ]
  },
  {
   "cell_type": "markdown",
   "metadata": {},
   "source": [
    "# Step 5: Save the Preprocessed Dataset"
   ]
  },
  {
   "cell_type": "code",
   "execution_count": 50,
   "metadata": {},
   "outputs": [
    {
     "name": "stdout",
     "output_type": "stream",
     "text": [
      "Full and sample datasets saved to each csv.\n"
     ]
    }
   ],
   "source": [
    "#Save full cleaned dataset \n",
    "df.to_csv('UNSW-NB15_full.csv', index=False)\n",
    "\n",
    "\n",
    "# Smaller Sample\n",
    "sample_df = df.sample(1000, random_state=42)\n",
    "sample_df.to_csv('UNSW-NB15_sample_1k.csv', index=False)\n",
    "print(\"Full and sample datasets saved to each csv.\")\n"
   ]
  },
  {
   "cell_type": "markdown",
   "metadata": {},
   "source": [
    "# Step 6: Visualize Label Distribution"
   ]
  },
  {
   "cell_type": "code",
   "execution_count": 5,
   "metadata": {},
   "outputs": [
    {
     "name": "stdout",
     "output_type": "stream",
     "text": [
      "Using '4' as the label column.\n"
     ]
    },
    {
     "data": {
      "image/png": "[encoded data removed]",
      "text/plain": [
       "<Figure size 800x400 with 1 Axes>"
      ]
     },
     "metadata": {},
     "output_type": "display_data"
    }
   ],
   "source": [
    "df = pd.read_csv('UNSW-NB15_full.csv')\n",
    "\n",
    "# Use the last column as the label\n",
    "label_column = df.columns[-1]  \n",
    "\n",
    "print(f\"Using '{label_column}' as the label column.\")\n",
    "\n",
    "# Plot the distribution\n",
    "plt.figure(figsize=(8, 4))\n",
    "df[label_column].value_counts().plot(kind='bar')\n",
    "plt.title('Class Distribution (Attack Categories)')\n",
    "plt.xlabel('Attack Type')\n",
    "plt.ylabel('Count')\n",
    "plt.show()"
   ]
  }
 ],
 "metadata": {
  "kernelspec": {
   "display_name": "Python 3",
   "language": "python",
   "name": "python3"
  },
  "language_info": {
   "codemirror_mode": {
    "name": "ipython",
    "version": 3
   },
   "file_extension": ".py",
   "mimetype": "text/x-python",
   "name": "python",
   "nbconvert_exporter": "python",
   "pygments_lexer": "ipython3",
   "version": "3.9.6"
  }
 },
 "nbformat": 4,
 "nbformat_minor": 2
}
